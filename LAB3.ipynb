{
 "cells": [
  {
   "cell_type": "markdown",
   "metadata": {},
   "source": [
    "## Loading the data"
   ]
  },
  {
   "cell_type": "code",
   "execution_count": 277,
   "metadata": {
    "collapsed": true
   },
   "outputs": [],
   "source": [
    "import numpy as np\n",
    "import matplotlib\n",
    "import matplotlib.pyplot as plt\n",
    "%matplotlib inline"
   ]
  },
  {
   "cell_type": "markdown",
   "metadata": {},
   "source": [
    "load the data from StevensonV2.mat"
   ]
  },
  {
   "cell_type": "code",
   "execution_count": 278,
   "metadata": {},
   "outputs": [],
   "source": [
    "import scipy.io\n",
    "mat_dict = scipy.io.loadmat('StevensonV2.mat')"
   ]
  },
  {
   "cell_type": "markdown",
   "metadata": {},
   "source": [
    "list all the variables."
   ]
  },
  {
   "cell_type": "code",
   "execution_count": 279,
   "metadata": {},
   "outputs": [
    {
     "data": {
      "text/plain": [
       "dict_keys(['__header__', '__version__', '__globals__', 'Publication', 'timeBase', 'spikes', 'time', 'handVel', 'handPos', 'target', 'startBins', 'targets', 'startBinned'])"
      ]
     },
     "execution_count": 279,
     "metadata": {},
     "output_type": "execute_result"
    }
   ],
   "source": [
    "#todo\n",
    "mat_dict.keys()"
   ]
  },
  {
   "cell_type": "markdown",
   "metadata": {},
   "source": [
    "extract two variables, spikes(x0) and handVel(y0). "
   ]
  },
  {
   "cell_type": "code",
   "execution_count": 280,
   "metadata": {},
   "outputs": [],
   "source": [
    "X0 = mat_dict['spikes'].T\n",
    "y0 = mat_dict['handVel'][0,:]"
   ]
  },
  {
   "cell_type": "markdown",
   "metadata": {},
   "source": [
    "find nt and nneuron and print the values."
   ]
  },
  {
   "cell_type": "code",
   "execution_count": 281,
   "metadata": {},
   "outputs": [
    {
     "name": "stdout",
     "output_type": "stream",
     "text": [
      "nt is 15536\n",
      "nneuron is 196\n"
     ]
    }
   ],
   "source": [
    "#TODO\n",
    "nt=X0.shape[0]\n",
    "nneuron=X0.shape[1]\n",
    "print(\"nt is\",nt)\n",
    "print(\"nneuron is\",nneuron)"
   ]
  },
  {
   "cell_type": "markdown",
   "metadata": {},
   "source": [
    "extract the time variable.Find the tsamp which is the time between measurements, and ttotal which is the total duration of the recording."
   ]
  },
  {
   "cell_type": "code",
   "execution_count": 282,
   "metadata": {},
   "outputs": [],
   "source": [
    "#TODO\n",
    "time = mat_dict['time']\n",
    "time=np.reshape(time,nt)\n",
    "tsamp=((2*sum(time)/nt)-2*time[0])/(nt-1)\n",
    "ttotal=time[nt-1]-time[0]"
   ]
  },
  {
   "cell_type": "markdown",
   "metadata": {},
   "source": [
    "## Linear fitting on all the neurons"
   ]
  },
  {
   "cell_type": "markdown",
   "metadata": {},
   "source": [
    "divide the data into training and test with approximately half the samples in each. Let Xtr and ytr denote the training data and Xts and yts denote the test data."
   ]
  },
  {
   "cell_type": "code",
   "execution_count": 283,
   "metadata": {
    "collapsed": true
   },
   "outputs": [],
   "source": [
    "#TODO\n",
    "ntr=nt//2\n",
    "nts=nt-ntr\n",
    "\n",
    "Xtr=X0[:ntr]\n",
    "ytr=y0[:ntr]\n",
    "Xts=X0[ntr:]\n",
    "yts=y0[ntr:]"
   ]
  },
  {
   "cell_type": "markdown",
   "metadata": {},
   "source": [
    "trying to fit a simple linear model using all the neurons as predictors."
   ]
  },
  {
   "cell_type": "code",
   "execution_count": 284,
   "metadata": {},
   "outputs": [
    {
     "data": {
      "text/plain": [
       "LinearRegression(copy_X=True, fit_intercept=True, n_jobs=1, normalize=False)"
      ]
     },
     "execution_count": 284,
     "metadata": {},
     "output_type": "execute_result"
    }
   ],
   "source": [
    "import sklearn.linear_model\n",
    "#TODO\n",
    "regr = sklearn.linear_model.LinearRegression()\n",
    "regr.fit(Xtr,ytr)"
   ]
  },
  {
   "cell_type": "markdown",
   "metadata": {},
   "source": [
    "Measure and print the normalized RSS on the test data."
   ]
  },
  {
   "cell_type": "code",
   "execution_count": 285,
   "metadata": {},
   "outputs": [
    {
     "name": "stdout",
     "output_type": "stream",
     "text": [
      "Normalized training RSS=0.468779\n",
      "Normalized test RSS = 4999054779645876502528.000000\n"
     ]
    }
   ],
   "source": [
    "#TODO\n",
    "ytr_pred = regr.predict(Xtr)\n",
    "RSS_tr = np.mean((ytr_pred-ytr)**2)/(np.std(ytr)**2)\n",
    "print(\"Normalized training RSS=%f\" % RSS_tr)\n",
    "yts_pred = regr.predict(Xts)\n",
    "RSS_rel_ts = np.mean((yts_pred-yts)**2)/(np.std(yts)**2)\n",
    "print(\"Normalized test RSS = {0:f}\".format(RSS_rel_ts))"
   ]
  },
  {
   "cell_type": "markdown",
   "metadata": {},
   "source": [
    "## Linear Fitting with Heuristic Model Selection"
   ]
  },
  {
   "cell_type": "markdown",
   "metadata": {},
   "source": [
    "Write code which computes the coefficient of determination, $R^2_k$, for each neuron $k$. Plot the $R^2_k$ values."
   ]
  },
  {
   "cell_type": "code",
   "execution_count": 286,
   "metadata": {},
   "outputs": [
    {
     "name": "stdout",
     "output_type": "stream",
     "text": [
      " 0 Rsq=0.006049\n",
      " 1 Rsq=0.017449\n",
      " 2 Rsq=0.017310\n",
      " 3 Rsq=0.014403\n",
      " 4 Rsq=0.013202\n",
      " 5 Rsq=0.000047\n",
      " 6 Rsq=0.026373\n",
      " 7 Rsq=0.000008\n",
      " 8 Rsq=0.000226\n",
      " 9 Rsq=0.000082\n",
      "10 Rsq=0.000698\n",
      "11 Rsq=0.000221\n",
      "12 Rsq=0.000438\n",
      "13 Rsq=0.000002\n",
      "14 Rsq=0.003749\n",
      "15 Rsq=0.000232\n",
      "16 Rsq=0.000438\n",
      "17 Rsq=0.000081\n",
      "18 Rsq=0.000427\n",
      "19 Rsq=0.000002\n",
      "20 Rsq=0.005763\n",
      "21 Rsq=0.000008\n",
      "22 Rsq=0.009351\n",
      "23 Rsq=0.001622\n",
      "24 Rsq=0.000000\n",
      "25 Rsq=0.000202\n",
      "26 Rsq=0.000149\n",
      "27 Rsq=0.000133\n",
      "28 Rsq=0.000011\n",
      "29 Rsq=0.011838\n",
      "30 Rsq=0.006994\n",
      "31 Rsq=0.000054\n",
      "32 Rsq=0.000048\n",
      "33 Rsq=0.000013\n",
      "34 Rsq=0.000000\n",
      "35 Rsq=0.005588\n",
      "36 Rsq=0.011034\n",
      "37 Rsq=0.000008\n",
      "38 Rsq=0.000161\n",
      "39 Rsq=0.001175\n",
      "40 Rsq=0.000047\n",
      "41 Rsq=0.000000\n",
      "42 Rsq=0.001871\n",
      "43 Rsq=0.018205\n",
      "44 Rsq=0.006378\n",
      "45 Rsq=0.001970\n",
      "46 Rsq=0.000140\n",
      "47 Rsq=0.000926\n",
      "48 Rsq=0.000001\n",
      "49 Rsq=0.000731\n",
      "50 Rsq=0.001064\n",
      "51 Rsq=0.000006\n",
      "52 Rsq=0.004139\n",
      "53 Rsq=0.000512\n",
      "54 Rsq=0.003184\n",
      "55 Rsq=0.002781\n",
      "56 Rsq=0.000032\n",
      "57 Rsq=0.000030\n",
      "58 Rsq=0.084733\n",
      "59 Rsq=0.001594\n",
      "60 Rsq=0.001124\n",
      "61 Rsq=0.024546\n",
      "62 Rsq=0.000178\n",
      "63 Rsq=0.000049\n",
      "64 Rsq=0.001727\n",
      "65 Rsq=0.002048\n",
      "66 Rsq=0.008399\n",
      "67 Rsq=0.057849\n",
      "68 Rsq=0.002292\n",
      "69 Rsq=0.001084\n",
      "70 Rsq=0.000058\n",
      "71 Rsq=0.001408\n",
      "72 Rsq=0.000004\n",
      "73 Rsq=0.000852\n",
      "74 Rsq=0.000006\n",
      "75 Rsq=0.000751\n",
      "76 Rsq=0.000086\n",
      "77 Rsq=0.000532\n",
      "78 Rsq=0.000016\n",
      "79 Rsq=0.001977\n",
      "80 Rsq=0.029364\n",
      "81 Rsq=0.000013\n",
      "82 Rsq=0.000000\n",
      "83 Rsq=0.001138\n",
      "84 Rsq=0.009751\n",
      "85 Rsq=0.000007\n",
      "86 Rsq=0.001297\n",
      "87 Rsq=0.003312\n",
      "88 Rsq=0.000615\n",
      "89 Rsq=0.000010\n",
      "90 Rsq=0.000198\n",
      "91 Rsq=0.000141\n",
      "92 Rsq=0.000008\n",
      "93 Rsq=0.000454\n",
      "94 Rsq=0.000021\n",
      "95 Rsq=0.000203\n",
      "96 Rsq=0.000113\n",
      "97 Rsq=0.001216\n",
      "98 Rsq=0.041412\n",
      "99 Rsq=0.000171\n",
      "100 Rsq=0.013749\n",
      "101 Rsq=0.000050\n",
      "102 Rsq=0.000506\n",
      "103 Rsq=0.007248\n",
      "104 Rsq=0.000006\n",
      "105 Rsq=0.000091\n",
      "106 Rsq=0.000092\n",
      "107 Rsq=0.000495\n",
      "108 Rsq=0.000760\n",
      "109 Rsq=0.001632\n",
      "110 Rsq=0.004300\n",
      "111 Rsq=0.006488\n",
      "112 Rsq=0.000781\n",
      "113 Rsq=0.000065\n",
      "114 Rsq=0.005248\n",
      "115 Rsq=0.001521\n",
      "116 Rsq=0.000404\n",
      "117 Rsq=0.005194\n",
      "118 Rsq=0.000107\n",
      "119 Rsq=0.000274\n",
      "120 Rsq=0.043481\n",
      "121 Rsq=0.000208\n",
      "122 Rsq=nan\n",
      "123 Rsq=0.000251\n",
      "124 Rsq=0.000239\n",
      "125 Rsq=0.003851\n",
      "126 Rsq=0.015655\n",
      "127 Rsq=0.002613\n",
      "128 Rsq=0.018871\n",
      "129 Rsq=0.004513\n",
      "130 Rsq=0.000000\n",
      "131 Rsq=0.000161\n",
      "132 Rsq=0.001233\n",
      "133 Rsq=0.002636\n",
      "134 Rsq=0.011346\n",
      "135 Rsq=0.003845\n",
      "136 Rsq=0.062266\n",
      "137 Rsq=0.007324\n",
      "138 Rsq=0.000570\n",
      "139 Rsq=0.000015\n",
      "140 Rsq=0.000891\n",
      "141 Rsq=0.005568\n",
      "142 Rsq=0.006446\n",
      "143 Rsq=0.000384\n",
      "144 Rsq=0.019351\n",
      "145 Rsq=0.027149\n",
      "146 Rsq=0.005472\n",
      "147 Rsq=0.008138\n",
      "148 Rsq=0.002579\n",
      "149 Rsq=0.002082\n",
      "150 Rsq=0.009285\n",
      "151 Rsq=0.012662\n",
      "152 Rsq=0.076110\n",
      "153 Rsq=0.062699\n",
      "154 Rsq=0.026915\n",
      "155 Rsq=0.022048\n",
      "156 Rsq=0.000025\n",
      "157 Rsq=0.000176\n",
      "158 Rsq=0.028348\n",
      "159 Rsq=0.000003\n",
      "160 Rsq=0.000199\n",
      "161 Rsq=0.000240\n",
      "162 Rsq=0.008190\n",
      "163 Rsq=0.000027\n",
      "164 Rsq=0.000006\n",
      "165 Rsq=0.000050\n",
      "166 Rsq=0.004791\n",
      "167 Rsq=0.015360\n",
      "168 Rsq=0.008925\n",
      "169 Rsq=0.000566\n",
      "170 Rsq=0.004922\n",
      "171 Rsq=0.000000\n",
      "172 Rsq=0.016245\n",
      "173 Rsq=0.000024\n",
      "174 Rsq=0.000001\n",
      "175 Rsq=0.000253\n",
      "176 Rsq=0.004500\n",
      "177 Rsq=0.000005\n",
      "178 Rsq=0.004516\n",
      "179 Rsq=0.002839\n",
      "180 Rsq=0.000009\n",
      "181 Rsq=0.000033\n",
      "182 Rsq=0.016409\n",
      "183 Rsq=0.008125\n",
      "184 Rsq=0.000704\n",
      "185 Rsq=0.000267\n",
      "186 Rsq=0.001975\n",
      "187 Rsq=0.001295\n",
      "188 Rsq=0.016119\n",
      "189 Rsq=0.001894\n",
      "190 Rsq=0.004888\n",
      "191 Rsq=0.000049\n",
      "192 Rsq=0.210846\n",
      "193 Rsq=0.031629\n",
      "194 Rsq=0.000219\n",
      "195 Rsq=0.041982\n"
     ]
    },
    {
     "name": "stderr",
     "output_type": "stream",
     "text": [
      "E:\\Anaconda3\\lib\\site-packages\\ipykernel_launcher.py:12: RuntimeWarning: invalid value encountered in double_scalars\n",
      "  if sys.path[0] == '':\n"
     ]
    }
   ],
   "source": [
    "# TODO\n",
    "# Rsq = ...\n",
    "# plt.stem(...)\n",
    "nsamp, natt = X0.shape\n",
    "ym = np.mean(y0)\n",
    "syy = np.mean((y0-ym)**2)\n",
    "Rsq = np.zeros(natt)\n",
    "for k in range(natt):\n",
    "    xm = np.mean(X0[:,k])\n",
    "    sxy = np.mean((X0[:,k]-xm)*(y0-ym))\n",
    "    sxx = np.mean((X0[:,k]-xm)**2)\n",
    "    Rsq[k] = (sxy)**2/sxx/syy\n",
    "    print(\"{0:2d} Rsq={1:f}\".format(k,Rsq[k]))"
   ]
  },
  {
   "cell_type": "markdown",
   "metadata": {},
   "source": [
    "find the indices of the d=100 neurons with the highest $R^2_k$ value. Put the d indices into an array Isel. Print the indices of the neurons with the 10 highest correlations."
   ]
  },
  {
   "cell_type": "code",
   "execution_count": 287,
   "metadata": {
    "scrolled": true
   },
   "outputs": [
    {
     "name": "stdout",
     "output_type": "stream",
     "text": [
      "[192  58 152 153 136  67 120 195  98 193  80 158 145 154   6  61 155 144\n",
      " 128  43   1   2 182 172 188 126 167   3 100   4 151  29 134  36  84  22\n",
      " 150 168  66 162 147 183 137 103  30 111 142  44   0  20  35 141 146 114\n",
      " 117 170 190 166 178 129 176 110  52 125 135  14  87  54 179  55 133 127\n",
      " 148  68 149  65  79 186  45 189  42  64 109  23  59 115  71  86 187 132\n",
      "  97  39  83  60  69  50  47 140  73 112]\n",
      "The neurons with the ten highest R^2 values\n",
      "0.210845831262\n",
      "0.0847328603557\n",
      "0.0761102725882\n",
      "0.062699356087\n",
      "0.0622658256534\n",
      "0.0578485335544\n",
      "0.0434812082929\n",
      "0.0419816628654\n",
      "0.0414122704664\n",
      "0.0316289265006\n"
     ]
    }
   ],
   "source": [
    "d = 100  # Number of neurons to use\n",
    "\n",
    "# TODO\n",
    "# Isel = ...\n",
    "# print(\"The neurons with the ten highest R^2 values = ...)\n",
    "p=np.argsort(-Rsq)\n",
    "p_s= p[0:d]\n",
    "print(p_s)\n",
    "r=Rsq[p_s]\n",
    "Isel=r[0:d]\n",
    "print(\"The neurons with the ten highest R^2 values\")\n",
    "for i in range(10):\n",
    "    print(Isel[i])"
   ]
  },
  {
   "cell_type": "markdown",
   "metadata": {},
   "source": [
    "Fit a model using only the d neurons selected in the previous step and print both the test RSS per sample and the normalized test RSS."
   ]
  },
  {
   "cell_type": "code",
   "execution_count": 288,
   "metadata": {
    "scrolled": true
   },
   "outputs": [
    {
     "name": "stdout",
     "output_type": "stream",
     "text": [
      "RSS per sample =0.488034\n",
      "Normalized training RSS=1.013499\n"
     ]
    }
   ],
   "source": [
    "# TODO\n",
    "X1=X0[:,p_s]\n",
    "y1=y0\n",
    "ntr1=d//2\n",
    "X1tr=X1[:ntr1]\n",
    "y1tr=y1[:ntr1]\n",
    "X1ts=X1[ntr1:]\n",
    "y1ts=y1[ntr1:]\n",
    "\n",
    "regr = sklearn.linear_model.LinearRegression()\n",
    "regr.fit(X1tr,y1tr)\n",
    "y1_pred = regr.predict(X1ts)\n",
    "RSS_1 = np.mean((y1_pred-y1ts)**2)/(np.std(y1ts)**2)\n",
    "RSS1 = np.sum((y1_pred-y1ts)**2)/d\n",
    "print(\"RSS per sample =%f\" % RSS1)\n",
    "print(\"Normalized training RSS=%f\" % RSS_1)"
   ]
  },
  {
   "cell_type": "markdown",
   "metadata": {},
   "source": [
    "Create a scatter plot of the predicted vs. actual hand motion on the test data. On the same plot, plot the line where yts_hat = yts."
   ]
  },
  {
   "cell_type": "code",
   "execution_count": 289,
   "metadata": {
    "scrolled": false
   },
   "outputs": [
    {
     "name": "stdout",
     "output_type": "stream",
     "text": [
      "15486\n",
      "15486\n"
     ]
    },
    {
     "data": {
      "text/plain": [
       "<matplotlib.text.Text at 0x1c1001b42b0>"
      ]
     },
     "execution_count": 289,
     "metadata": {},
     "output_type": "execute_result"
    },
    {
     "data": {
      "image/png": "[encoded data removed]",
      "text/plain": [
       "<matplotlib.figure.Figure at 0x1c16d9db518>"
      ]
     },
     "metadata": {},
     "output_type": "display_data"
    }
   ],
   "source": [
    "# TODO\n",
    "yp = regr.predict(X1)\n",
    "plt.scatter(y1ts,y1_pred)\n",
    "print(len(y1ts))\n",
    "print(len(y1_pred))\n",
    "plt.grid()\n",
    "plt.xlabel('test')\n",
    "plt.ylabel('predicted')"
   ]
  },
  {
   "cell_type": "markdown",
   "metadata": {},
   "source": [
    "## Using K-fold cross validation for the optimal number of neurons"
   ]
  },
  {
   "cell_type": "markdown",
   "metadata": {},
   "source": [
    "Try model orders with d=10,20,...,190."
   ]
  },
  {
   "cell_type": "code",
   "execution_count": 297,
   "metadata": {
    "scrolled": true
   },
   "outputs": [
    {
     "name": "stderr",
     "output_type": "stream",
     "text": [
      "E:\\Anaconda3\\lib\\site-packages\\ipykernel_launcher.py:26: RuntimeWarning: divide by zero encountered in double_scalars\n"
     ]
    },
    {
     "name": "stdout",
     "output_type": "stream",
     "text": [
      "Normalized training RSS=inf\n",
      "Normalized training RSS=inf\n",
      "Normalized training RSS=inf\n",
      "Normalized training RSS=inf\n",
      "Normalized training RSS=inf\n",
      "Normalized training RSS=inf\n",
      "Normalized training RSS=inf\n",
      "Normalized training RSS=inf\n",
      "Normalized training RSS=inf\n",
      "Normalized training RSS=inf\n",
      "Normalized training RSS=5.297663\n",
      "Normalized training RSS=4.703609\n",
      "Normalized training RSS=40.034823\n",
      "Normalized training RSS=9.785792\n",
      "Normalized training RSS=66.052454\n",
      "Normalized training RSS=633.165412\n",
      "Normalized training RSS=0.428206\n",
      "Normalized training RSS=2.463364\n",
      "Normalized training RSS=6.375132\n",
      "Normalized training RSS=4.052948\n",
      "Normalized training RSS=2.229517\n",
      "Normalized training RSS=1.808844\n",
      "Normalized training RSS=6.098830\n",
      "Normalized training RSS=1.643017\n",
      "Normalized training RSS=0.293282\n",
      "Normalized training RSS=26.333849\n",
      "Normalized training RSS=1.142385\n",
      "Normalized training RSS=2.064379\n",
      "Normalized training RSS=2.004970\n",
      "Normalized training RSS=2.827520\n",
      "Normalized training RSS=1.711362\n",
      "Normalized training RSS=2.216635\n",
      "Normalized training RSS=1.686426\n",
      "Normalized training RSS=2.941748\n",
      "Normalized training RSS=2.065603\n",
      "Normalized training RSS=1.642167\n",
      "Normalized training RSS=4.423888\n",
      "Normalized training RSS=10.427766\n",
      "Normalized training RSS=2.116604\n",
      "Normalized training RSS=3.552971\n",
      "Normalized training RSS=1.618768\n",
      "Normalized training RSS=1.033583\n",
      "Normalized training RSS=12.637462\n",
      "Normalized training RSS=2.188533\n",
      "Normalized training RSS=53.887269\n",
      "Normalized training RSS=2.763098\n",
      "Normalized training RSS=2.478956\n",
      "Normalized training RSS=4.928336\n",
      "Normalized training RSS=1.670798\n",
      "Normalized training RSS=8.647210\n",
      "Normalized training RSS=4.854044\n",
      "Normalized training RSS=2.081041\n",
      "Normalized training RSS=0.780002\n",
      "Normalized training RSS=1.089829\n",
      "Normalized training RSS=2.047646\n",
      "Normalized training RSS=6.040877\n",
      "Normalized training RSS=3.438882\n",
      "Normalized training RSS=4.456123\n",
      "Normalized training RSS=21.273112\n",
      "Normalized training RSS=23.250526\n",
      "Normalized training RSS=1.581165\n",
      "Normalized training RSS=0.653019\n",
      "Normalized training RSS=1.837396\n",
      "Normalized training RSS=6.228152\n",
      "Normalized training RSS=1.226389\n",
      "Normalized training RSS=2.940332\n",
      "Normalized training RSS=2.177446\n",
      "Normalized training RSS=2.844659\n",
      "Normalized training RSS=7.396612\n",
      "Normalized training RSS=2.222872\n",
      "Normalized training RSS=4.227806\n",
      "Normalized training RSS=0.845443\n",
      "Normalized training RSS=10.714244\n",
      "Normalized training RSS=0.463985\n",
      "Normalized training RSS=3.042715\n",
      "Normalized training RSS=1.548921\n",
      "Normalized training RSS=1.659078\n",
      "Normalized training RSS=1.780643\n",
      "Normalized training RSS=5.157444\n",
      "Normalized training RSS=2.751547\n",
      "Normalized training RSS=8.609485\n",
      "Normalized training RSS=13.734116\n",
      "Normalized training RSS=0.757239\n",
      "Normalized training RSS=2.802232\n",
      "Normalized training RSS=21.222909\n",
      "Normalized training RSS=9.594156\n",
      "Normalized training RSS=1.739281\n",
      "Normalized training RSS=3.106753\n",
      "Normalized training RSS=1.124832\n",
      "Normalized training RSS=1.347849\n",
      "Normalized training RSS=1.503481\n",
      "Normalized training RSS=1.757032\n",
      "Normalized training RSS=2.146647\n",
      "Normalized training RSS=1.986612\n",
      "Normalized training RSS=3.082601\n",
      "Normalized training RSS=2.201300\n",
      "Normalized training RSS=2.194214\n",
      "Normalized training RSS=6.121012\n",
      "Normalized training RSS=2.480691\n",
      "Normalized training RSS=4.705946\n",
      "Normalized training RSS=2.296663\n",
      "Normalized training RSS=1.653173\n",
      "Normalized training RSS=2.106215\n",
      "Normalized training RSS=2.516970\n",
      "Normalized training RSS=1.769348\n",
      "Normalized training RSS=27.752680\n",
      "Normalized training RSS=2.032746\n",
      "Normalized training RSS=1.446722\n",
      "Normalized training RSS=1.397494\n",
      "Normalized training RSS=1.979856\n",
      "Normalized training RSS=3.429202\n",
      "Normalized training RSS=5.904021\n",
      "Normalized training RSS=2.301566\n",
      "Normalized training RSS=2.670828\n",
      "Normalized training RSS=7.605545\n",
      "Normalized training RSS=1.041930\n",
      "Normalized training RSS=1.554122\n",
      "Normalized training RSS=7.050748\n",
      "Normalized training RSS=1.838900\n",
      "Normalized training RSS=1.590177\n",
      "Normalized training RSS=17.431271\n",
      "Normalized training RSS=20.353292\n",
      "Normalized training RSS=3.729186\n",
      "Normalized training RSS=18.242373\n",
      "Normalized training RSS=13.010652\n",
      "Normalized training RSS=9.143412\n",
      "Normalized training RSS=11.834035\n",
      "Normalized training RSS=7.783410\n",
      "Normalized training RSS=6.205449\n",
      "Normalized training RSS=7.279995\n",
      "Normalized training RSS=33.194439\n",
      "Normalized training RSS=57.708538\n",
      "Normalized training RSS=4.491823\n",
      "Normalized training RSS=12.493787\n",
      "Normalized training RSS=26.229756\n",
      "Normalized training RSS=6.912430\n",
      "Normalized training RSS=6.770095\n",
      "Normalized training RSS=9.097025\n",
      "Normalized training RSS=17.451256\n",
      "Normalized training RSS=18.742812\n",
      "Normalized training RSS=6.803668\n",
      "Normalized training RSS=9.955756\n",
      "Normalized training RSS=7.142189\n",
      "Normalized training RSS=4.210239\n",
      "Normalized training RSS=4.706343\n",
      "Normalized training RSS=52.308652\n",
      "Normalized training RSS=22.265285\n",
      "Normalized training RSS=6.423163\n",
      "Normalized training RSS=9.458052\n",
      "Normalized training RSS=13.488282\n",
      "Normalized training RSS=9.529503\n",
      "Normalized training RSS=21.742723\n",
      "Normalized training RSS=16.825007\n",
      "Normalized training RSS=6.024521\n",
      "Normalized training RSS=10.653653\n",
      "Normalized training RSS=6.678460\n",
      "Normalized training RSS=15.176148\n",
      "Normalized training RSS=7.999387\n",
      "Normalized training RSS=19.900854\n",
      "Normalized training RSS=25.634798\n",
      "Normalized training RSS=20.581786\n",
      "Normalized training RSS=95.571881\n",
      "Normalized training RSS=4.298225\n",
      "Normalized training RSS=8.140054\n",
      "Normalized training RSS=42.479735\n",
      "Normalized training RSS=14.926518\n",
      "Normalized training RSS=78.881800\n",
      "Normalized training RSS=15.412422\n",
      "Normalized training RSS=16.160761\n",
      "Normalized training RSS=13.908281\n",
      "Normalized training RSS=44.982251\n",
      "Normalized training RSS=418.085850\n",
      "Normalized training RSS=34.744721\n",
      "Normalized training RSS=392.417217\n",
      "Normalized training RSS=189.476370\n",
      "Normalized training RSS=117.774958\n",
      "Normalized training RSS=99.075027\n",
      "Normalized training RSS=3472.694532\n",
      "Normalized training RSS=8123.325508\n",
      "Normalized training RSS=388.644079\n",
      "Normalized training RSS=19.377574\n",
      "Normalized training RSS=24.168397\n",
      "Normalized training RSS=27.724041\n",
      "Normalized training RSS=180.380764\n",
      "Normalized training RSS=983986058855351788240896.000000\n",
      "Normalized training RSS=11.093967\n",
      "Normalized training RSS=36.796425\n",
      "Normalized training RSS=33066644878410812034646016.000000\n",
      "Normalized training RSS=28123023518678974464.000000\n",
      "Normalized training RSS=157.765025\n"
     ]
    }
   ],
   "source": [
    "# Create a k-fold object\n",
    "nfold = 10\n",
    "kf = sklearn.model_selection.KFold(n_splits=nfold,shuffle=True)\n",
    "\n",
    "# Model orders to be tested\n",
    "dtest = np.arange(10,200,10)\n",
    "nd = len(dtest)\n",
    "\n",
    "# TODO.\n",
    "for a in range(19):\n",
    "    d = dtest[a]\n",
    "    p_s= p[0:d]\n",
    "    r=Rsq[p_s]\n",
    "    Isel=r[0:d]\n",
    "    \n",
    "    X1=X0[p_s]\n",
    "    y1=y0\n",
    "    for tr_in, ts_in in kf.split(X1):\n",
    "        X2tr=X1[tr_in]\n",
    "        y2tr=y1[tr_in]\n",
    "        X2ts=X1[ts_in]\n",
    "        y2ts=y1[ts_in]\n",
    "        regr = sklearn.linear_model.LinearRegression()\n",
    "        regr.fit(X2tr,y2tr)\n",
    "        y2_pred = regr.predict(X2ts)\n",
    "        RSS_2 = np.mean((y2_pred-y2ts)**2)/(np.std(y2ts)**2)\n",
    "        print(\"Normalized training RSS=%f\" % RSS_2)"
   ]
  },
  {
   "cell_type": "code",
   "execution_count": null,
   "metadata": {},
   "outputs": [],
   "source": []
  },
  {
   "cell_type": "code",
   "execution_count": null,
   "metadata": {
    "collapsed": true
   },
   "outputs": [],
   "source": []
  }
 ],
 "metadata": {
  "kernelspec": {
   "display_name": "Python 3",
   "language": "python",
   "name": "python3"
  },
  "language_info": {
   "codemirror_mode": {
    "name": "ipython",
    "version": 3
   },
   "file_extension": ".py",
   "mimetype": "text/x-python",
   "name": "python",
   "nbconvert_exporter": "python",
   "pygments_lexer": "ipython3",
   "version": "3.6.1"
  }
 },
 "nbformat": 4,
 "nbformat_minor": 2
}
