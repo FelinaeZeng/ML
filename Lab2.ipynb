
{
 "cells": [
  {
   "cell_type": "markdown",
   "metadata": {},
   "source": [
    "LAB2\n",
    "Yiang Zeng\n",
    "N15860799\n",
    "yz4420"
    
   ]
  },
  {
   "cell_type": "markdown",
   "metadata": {},
   "source": [
    "## Load and Visualize the Data\n",
    "First, import the modules we will need."
   ]
  },
  {
   "cell_type": "code",
   "execution_count": 52,
   "metadata": {
    "collapsed": true
   },
   "outputs": [],
   "source": [
    "import pandas as pd\n",
    "import numpy as np\n",
    "import matplotlib\n",
    "import matplotlib.pyplot as plt\n",
    "%matplotlib inline"
   ]
  },
  {
   "cell_type": "markdown",
   "metadata": {},
   "source": [
    "Below, I have supplied the column headers in the names array. Use the pd.read_csv command to load the data. Use the index_col option to specify that column 0 (the one with time) is the index column. You can review simple linear regression demo for examples of using the pd.read_csv command."
   ]
  },
  {
   "cell_type": "code",
   "execution_count": 53,
   "metadata": {},
   "outputs": [],
   "source": [
    "names =[\n",
    "    't',                                  # Time (secs)\n",
    "    'q1', 'q2', 'q3',                     # Joint angle   (rads)\n",
    "    'dq1', 'dq2', 'dq3',                  # Joint velocity (rads/sec)\n",
    "    'I1', 'I2', 'I3',                     # Motor current (A)\n",
    "    'eps21', 'eps22', 'eps31', 'eps32',   # Strain gauge measurements ($\\mu$m /m )\n",
    "    'ddq1', 'ddq2', 'ddq3'                # Joint accelerations (rad/sec^2)\n",
    "]\n",
    "\n",
    "# TODO \n",
    "# df = pd.read_csv(...)\n",
    "df = pd.read_csv('https://raw.githubusercontent.com/sdrangan/introml/2801f72d7a4fff0633ede56ba701984f9bb05652/mult_lin_reg/exp1.csv',\n",
    "               header=None,na_values='?',names=names)"
   ]
  },
  {
   "cell_type": "markdown",
   "metadata": {},
   "source": [
    "Print the first six lines of the pandas dataframe and manually check that they match the first rows of the csv file."
   ]
  },
  {
   "cell_type": "code",
   "execution_count": 54,
   "metadata": {},
   "outputs": [
    {
     "data": {
      "text/html": [
       "<div>\n",
       "<style>\n",
       "    .dataframe thead tr:only-child th {\n",
       "        text-align: right;\n",
       "    }\n",
       "\n",
       "    .dataframe thead th {\n",
       "        text-align: left;\n",
       "    }\n",
       "\n",
       "    .dataframe tbody tr th {\n",
       "        vertical-align: top;\n",
       "    }\n",
       "</style>\n",
       "<table border=\"1\" class=\"dataframe\">\n",
       "  <thead>\n",
       "    <tr style=\"text-align: right;\">\n",
       "      <th></th>\n",
       "      <th>t</th>\n",
       "      <th>q1</th>\n",
       "      <th>q2</th>\n",
       "      <th>q3</th>\n",
       "      <th>dq1</th>\n",
       "      <th>dq2</th>\n",
       "      <th>dq3</th>\n",
       "      <th>I1</th>\n",
       "      <th>I2</th>\n",
       "      <th>I3</th>\n",
       "      <th>eps21</th>\n",
       "      <th>eps22</th>\n",
       "      <th>eps31</th>\n",
       "      <th>eps32</th>\n",
       "      <th>ddq1</th>\n",
       "      <th>ddq2</th>\n",
       "      <th>ddq3</th>\n",
       "    </tr>\n",
       "  </thead>\n",
       "  <tbody>\n",
       "    <tr>\n",
       "      <th>0</th>\n",
       "      <td>0.00</td>\n",
       "      <td>-0.000007</td>\n",
       "      <td>2.4958</td>\n",
       "      <td>-1.1345</td>\n",
       "      <td>-7.882100e-21</td>\n",
       "      <td>-4.940656e-321</td>\n",
       "      <td>3.913100e-29</td>\n",
       "      <td>-0.081623</td>\n",
       "      <td>-0.40812</td>\n",
       "      <td>-0.30609</td>\n",
       "      <td>-269.25</td>\n",
       "      <td>-113.20</td>\n",
       "      <td>3.5918</td>\n",
       "      <td>1.57860</td>\n",
       "      <td>-9.904900e-19</td>\n",
       "      <td>-6.210306e-319</td>\n",
       "      <td>4.917400e-27</td>\n",
       "    </tr>\n",
       "    <tr>\n",
       "      <th>1</th>\n",
       "      <td>0.01</td>\n",
       "      <td>-0.000007</td>\n",
       "      <td>2.4958</td>\n",
       "      <td>-1.1345</td>\n",
       "      <td>-2.258200e-21</td>\n",
       "      <td>-4.940656e-321</td>\n",
       "      <td>2.626200e-31</td>\n",
       "      <td>-0.037411</td>\n",
       "      <td>-0.37241</td>\n",
       "      <td>-0.26698</td>\n",
       "      <td>-270.91</td>\n",
       "      <td>-116.05</td>\n",
       "      <td>1.4585</td>\n",
       "      <td>-1.73980</td>\n",
       "      <td>4.248100e-19</td>\n",
       "      <td>-1.766878e-319</td>\n",
       "      <td>-1.381100e-27</td>\n",
       "    </tr>\n",
       "    <tr>\n",
       "      <th>2</th>\n",
       "      <td>0.02</td>\n",
       "      <td>-0.000007</td>\n",
       "      <td>2.4958</td>\n",
       "      <td>-1.1345</td>\n",
       "      <td>-6.469800e-22</td>\n",
       "      <td>-4.940656e-321</td>\n",
       "      <td>1.762500e-33</td>\n",
       "      <td>-0.066319</td>\n",
       "      <td>-0.40302</td>\n",
       "      <td>-0.31459</td>\n",
       "      <td>-269.25</td>\n",
       "      <td>-112.97</td>\n",
       "      <td>3.5918</td>\n",
       "      <td>0.86753</td>\n",
       "      <td>3.233800e-19</td>\n",
       "      <td>-4.990557e-320</td>\n",
       "      <td>-4.117300e-28</td>\n",
       "    </tr>\n",
       "    <tr>\n",
       "      <th>3</th>\n",
       "      <td>0.03</td>\n",
       "      <td>-0.000007</td>\n",
       "      <td>2.4958</td>\n",
       "      <td>-1.1345</td>\n",
       "      <td>-1.853600e-22</td>\n",
       "      <td>-4.940656e-321</td>\n",
       "      <td>1.182800e-35</td>\n",
       "      <td>-0.068020</td>\n",
       "      <td>-0.43703</td>\n",
       "      <td>-0.28398</td>\n",
       "      <td>-269.97</td>\n",
       "      <td>-114.39</td>\n",
       "      <td>1.6956</td>\n",
       "      <td>-0.08059</td>\n",
       "      <td>1.500500e-19</td>\n",
       "      <td>-1.394253e-320</td>\n",
       "      <td>-1.173100e-28</td>\n",
       "    </tr>\n",
       "    <tr>\n",
       "      <th>4</th>\n",
       "      <td>0.04</td>\n",
       "      <td>-0.000007</td>\n",
       "      <td>2.4958</td>\n",
       "      <td>-1.1345</td>\n",
       "      <td>-5.310600e-23</td>\n",
       "      <td>-4.940656e-321</td>\n",
       "      <td>-5.270900e-03</td>\n",
       "      <td>-0.052715</td>\n",
       "      <td>-0.40472</td>\n",
       "      <td>-0.30779</td>\n",
       "      <td>-269.97</td>\n",
       "      <td>-114.15</td>\n",
       "      <td>3.1177</td>\n",
       "      <td>0.86753</td>\n",
       "      <td>5.932400e-20</td>\n",
       "      <td>-3.581976e-321</td>\n",
       "      <td>-3.770800e-01</td>\n",
       "    </tr>\n",
       "    <tr>\n",
       "      <th>5</th>\n",
       "      <td>0.05</td>\n",
       "      <td>-0.000007</td>\n",
       "      <td>2.4958</td>\n",
       "      <td>-1.1345</td>\n",
       "      <td>-1.521500e-23</td>\n",
       "      <td>-4.940656e-321</td>\n",
       "      <td>3.252600e-04</td>\n",
       "      <td>-0.088425</td>\n",
       "      <td>-0.42342</td>\n",
       "      <td>-0.29589</td>\n",
       "      <td>-269.25</td>\n",
       "      <td>-114.15</td>\n",
       "      <td>2.4066</td>\n",
       "      <td>-0.08059</td>\n",
       "      <td>2.164600e-20</td>\n",
       "      <td>-1.141292e-321</td>\n",
       "      <td>2.930300e-01</td>\n",
       "    </tr>\n",
       "  </tbody>\n",
       "</table>\n",
       "</div>"
      ],
      "text/plain": [
       "      t        q1      q2      q3           dq1            dq2           dq3  \\\n",
       "0  0.00 -0.000007  2.4958 -1.1345 -7.882100e-21 -4.940656e-321  3.913100e-29   \n",
       "1  0.01 -0.000007  2.4958 -1.1345 -2.258200e-21 -4.940656e-321  2.626200e-31   \n",
       "2  0.02 -0.000007  2.4958 -1.1345 -6.469800e-22 -4.940656e-321  1.762500e-33   \n",
       "3  0.03 -0.000007  2.4958 -1.1345 -1.853600e-22 -4.940656e-321  1.182800e-35   \n",
       "4  0.04 -0.000007  2.4958 -1.1345 -5.310600e-23 -4.940656e-321 -5.270900e-03   \n",
       "5  0.05 -0.000007  2.4958 -1.1345 -1.521500e-23 -4.940656e-321  3.252600e-04   \n",
       "\n",
       "         I1       I2       I3   eps21   eps22   eps31    eps32          ddq1  \\\n",
       "0 -0.081623 -0.40812 -0.30609 -269.25 -113.20  3.5918  1.57860 -9.904900e-19   \n",
       "1 -0.037411 -0.37241 -0.26698 -270.91 -116.05  1.4585 -1.73980  4.248100e-19   \n",
       "2 -0.066319 -0.40302 -0.31459 -269.25 -112.97  3.5918  0.86753  3.233800e-19   \n",
       "3 -0.068020 -0.43703 -0.28398 -269.97 -114.39  1.6956 -0.08059  1.500500e-19   \n",
       "4 -0.052715 -0.40472 -0.30779 -269.97 -114.15  3.1177  0.86753  5.932400e-20   \n",
       "5 -0.088425 -0.42342 -0.29589 -269.25 -114.15  2.4066 -0.08059  2.164600e-20   \n",
       "\n",
       "            ddq2          ddq3  \n",
       "0 -6.210306e-319  4.917400e-27  \n",
       "1 -1.766878e-319 -1.381100e-27  \n",
       "2 -4.990557e-320 -4.117300e-28  \n",
       "3 -1.394253e-320 -1.173100e-28  \n",
       "4 -3.581976e-321 -3.770800e-01  \n",
       "5 -1.141292e-321  2.930300e-01  "
      ]
     },
     "execution_count": 54,
     "metadata": {},
     "output_type": "execute_result"
    }
   ],
   "source": [
    "# TODO \n",
    "df.head(6)"
   ]
  },
  {
   "cell_type": "markdown",
   "metadata": {},
   "source": [
    "From the dataframe df, extract the time indices into a vector t and extract I2, the current into the second joint. Place the current in a vector y and plot y vs. t."
   ]
  },
  {
   "cell_type": "code",
   "execution_count": 55,
   "metadata": {},
   "outputs": [
    {
     "data": {
      "image/png": "iVBORw0KGgoAAAANSUhEUgAAAY4AAAEKCAYAAAAFJbKyAAAABHNCSVQICAgIfAhkiAAAAAlwSFlz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\nAABJRU5ErkJggg==\n",
      "text/plain": [
       "<matplotlib.figure.Figure at 0x2b9d8f8abe0>"
      ]
     },
     "metadata": {},
     "output_type": "display_data"
    }
   ],
   "source": [
    "# TODO\n",
    "# y = ...\n",
    "# t = ...\n",
    "# plt.plot(...)\n",
    "y = np.array(df['I2'])\n",
    "t = np.array(df['t'])\n",
    "plt.plot(t,y,'.')\n",
    "plt.xlabel('t')\n",
    "plt.ylabel('y')\n",
    "plt.grid(True)"
   ]
  },
  {
   "cell_type": "markdown",
   "metadata": {},
   "source": [
    "Use all the samples from the experiment 1 dataset to create the training data:\n",
    "ytrain: A vector of all the samples from the I2 column\n",
    "Xtrain: A matrix of the data with the columns:  ['q2','dq2','eps21', 'eps22', 'eps31', 'eps32','ddq2']"
   ]
  },
  {
   "cell_type": "code",
   "execution_count": 56,
   "metadata": {
    "collapsed": true
   },
   "outputs": [],
   "source": [
    "# TODO\n",
    "# ytrain = ...\n",
    "# Xtrain = ...\n",
    "Xtrain=df[['q2','dq2','eps21', 'eps22', 'eps31', 'eps32','ddq2']]\n",
    "ytrain=df['I2']"
   ]
  },
  {
   "cell_type": "markdown",
   "metadata": {},
   "source": [
    "## Fit a Linear Model\n",
    "Use the sklearn.linear_model module to create a LinearRegression class regr."
   ]
  },
  {
   "cell_type": "code",
   "execution_count": 57,
   "metadata": {
    "collapsed": true
   },
   "outputs": [],
   "source": [
    "from sklearn import linear_model\n",
    "\n",
    "# Create linear regression object\n",
    "# TODO\n",
    "# regr = ...\n",
    "regr= linear_model.LinearRegression()"
   ]
  },
  {
   "cell_type": "markdown",
   "metadata": {},
   "source": [
    "Train the model on the training data using the regr.fit(...) method."
   ]
  },
  {
   "cell_type": "code",
   "execution_count": 58,
   "metadata": {},
   "outputs": [
    {
     "data": {
      "text/plain": [
       "LinearRegression(copy_X=True, fit_intercept=True, n_jobs=1, normalize=False)"
      ]
     },
     "execution_count": 58,
     "metadata": {},
     "output_type": "execute_result"
    }
   ],
   "source": [
    "regr.fit(Xtrain,ytrain)"
   ]
  },
  {
   "cell_type": "markdown",
   "metadata": {},
   "source": [
    "Plot the predicted and actual current I2 over time on the same plot. Create a legend for the plot."
   ]
  },
  {
   "cell_type": "code",
   "execution_count": 59,
   "metadata": {},
   "outputs": [
    {
     "data": {
      "image/png": "iVBORw0KGgoAAAANSUhEUgAAAY4AAAEKCAYAAAAFJbKyAAAABHNCSVQICAgIfAhkiAAAAAlwSFlz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\n",
      "text/plain": [
       "<matplotlib.figure.Figure at 0x2b9d9692f28>"
      ]
     },
     "metadata": {},
     "output_type": "display_data"
    }
   ],
   "source": [
    "y_pred = regr.predict(Xtrain)\n",
    "plt.plot(t,ytrain,'.')\n",
    "plt.plot(t,y_pred,'.')\n",
    "plt.xlabel('t')\n",
    "plt.ylabel('y')\n",
    "plt.grid()"
   ]
  },
  {
   "cell_type": "markdown",
   "metadata": {},
   "source": [
    "Measure the normalized RSS given by $$\n",
    "    \\frac{RSS}{n s^2_y}.\n",
    "$$"
   ]
  },
  {
   "cell_type": "code",
   "execution_count": 60,
   "metadata": {},
   "outputs": [
    {
     "name": "stdout",
     "output_type": "stream",
     "text": [
      "RSS per sample = 0.095833\n",
      "R^2 =            0.904167\n"
     ]
    }
   ],
   "source": [
    "RSS_train = np.mean((y_pred-ytrain)**2)/(np.std(ytrain)**2)\n",
    "Rsq_tr = 1-RSS_train\n",
    "print(\"RSS per sample = {0:f}\".format(RSS_train))\n",
    "print(\"R^2 =            {0:f}\".format(Rsq_tr))"
   ]
  },
  {
   "cell_type": "markdown",
   "metadata": {},
   "source": [
    "## Measure the Fit on an Indepdent Dataset\n",
    "Load the data in exp2.csv. Compute the regression predicted values on this data and plot the predicted and actual values over time."
   ]
  },
  {
   "cell_type": "code",
   "execution_count": 61,
   "metadata": {
    "scrolled": true
   },
   "outputs": [
    {
     "data": {
      "text/html": [
       "<div>\n",
       "<style>\n",
       "    .dataframe thead tr:only-child th {\n",
       "        text-align: right;\n",
       "    }\n",
       "\n",
       "    .dataframe thead th {\n",
       "        text-align: left;\n",
       "    }\n",
       "\n",
       "    .dataframe tbody tr th {\n",
       "        vertical-align: top;\n",
       "    }\n",
       "</style>\n",
       "<table border=\"1\" class=\"dataframe\">\n",
       "  <thead>\n",
       "    <tr style=\"text-align: right;\">\n",
       "      <th></th>\n",
       "      <th>t</th>\n",
       "      <th>q1</th>\n",
       "      <th>q2</th>\n",
       "      <th>q3</th>\n",
       "      <th>dq1</th>\n",
       "      <th>dq2</th>\n",
       "      <th>dq3</th>\n",
       "      <th>I1</th>\n",
       "      <th>I2</th>\n",
       "      <th>I3</th>\n",
       "      <th>eps21</th>\n",
       "      <th>eps22</th>\n",
       "      <th>eps31</th>\n",
       "      <th>eps32</th>\n",
       "      <th>ddq1</th>\n",
       "      <th>ddq2</th>\n",
       "      <th>ddq3</th>\n",
       "    </tr>\n",
       "  </thead>\n",
       "  <tbody>\n",
       "    <tr>\n",
       "      <th>0</th>\n",
       "      <td>0.00</td>\n",
       "      <td>-0.000007</td>\n",
       "      <td>1.9024</td>\n",
       "      <td>0.26063</td>\n",
       "      <td>-0.000364</td>\n",
       "      <td>4.940656e-321</td>\n",
       "      <td>0.012596</td>\n",
       "      <td>-0.096928</td>\n",
       "      <td>-0.15134</td>\n",
       "      <td>-0.017005</td>\n",
       "      <td>-130.83</td>\n",
       "      <td>-41.856</td>\n",
       "      <td>-6.3635</td>\n",
       "      <td>5.13410</td>\n",
       "      <td>-0.045712</td>\n",
       "      <td>6.210306e-319</td>\n",
       "      <td>1.582900</td>\n",
       "    </tr>\n",
       "    <tr>\n",
       "      <th>1</th>\n",
       "      <td>0.01</td>\n",
       "      <td>0.000013</td>\n",
       "      <td>1.9024</td>\n",
       "      <td>0.26073</td>\n",
       "      <td>0.000739</td>\n",
       "      <td>4.940656e-321</td>\n",
       "      <td>0.012095</td>\n",
       "      <td>-0.028908</td>\n",
       "      <td>-0.11903</td>\n",
       "      <td>-0.020406</td>\n",
       "      <td>-138.18</td>\n",
       "      <td>-51.100</td>\n",
       "      <td>-14.6590</td>\n",
       "      <td>-5.05820</td>\n",
       "      <td>0.125580</td>\n",
       "      <td>1.766878e-319</td>\n",
       "      <td>0.414660</td>\n",
       "    </tr>\n",
       "    <tr>\n",
       "      <th>2</th>\n",
       "      <td>0.02</td>\n",
       "      <td>-0.000007</td>\n",
       "      <td>1.9024</td>\n",
       "      <td>0.26086</td>\n",
       "      <td>-0.000580</td>\n",
       "      <td>4.940656e-321</td>\n",
       "      <td>0.011596</td>\n",
       "      <td>-0.059517</td>\n",
       "      <td>-0.13944</td>\n",
       "      <td>-0.047614</td>\n",
       "      <td>-139.36</td>\n",
       "      <td>-51.812</td>\n",
       "      <td>-14.6590</td>\n",
       "      <td>-5.29520</td>\n",
       "      <td>-0.130080</td>\n",
       "      <td>4.990557e-320</td>\n",
       "      <td>0.082286</td>\n",
       "    </tr>\n",
       "    <tr>\n",
       "      <th>3</th>\n",
       "      <td>0.03</td>\n",
       "      <td>0.000013</td>\n",
       "      <td>1.9024</td>\n",
       "      <td>0.26099</td>\n",
       "      <td>0.001409</td>\n",
       "      <td>4.940656e-321</td>\n",
       "      <td>0.013933</td>\n",
       "      <td>-0.079923</td>\n",
       "      <td>-0.15304</td>\n",
       "      <td>-0.023807</td>\n",
       "      <td>-135.57</td>\n",
       "      <td>-48.019</td>\n",
       "      <td>-11.3410</td>\n",
       "      <td>-0.79168</td>\n",
       "      <td>0.213010</td>\n",
       "      <td>1.394253e-320</td>\n",
       "      <td>0.190650</td>\n",
       "    </tr>\n",
       "    <tr>\n",
       "      <th>4</th>\n",
       "      <td>0.04</td>\n",
       "      <td>-0.000007</td>\n",
       "      <td>1.9024</td>\n",
       "      <td>0.26110</td>\n",
       "      <td>-0.001273</td>\n",
       "      <td>4.940656e-321</td>\n",
       "      <td>0.010793</td>\n",
       "      <td>-0.025507</td>\n",
       "      <td>-0.12924</td>\n",
       "      <td>-0.006802</td>\n",
       "      <td>-135.81</td>\n",
       "      <td>-49.204</td>\n",
       "      <td>-12.0520</td>\n",
       "      <td>-2.21390</td>\n",
       "      <td>-0.276490</td>\n",
       "      <td>3.581976e-321</td>\n",
       "      <td>-0.170400</td>\n",
       "    </tr>\n",
       "    <tr>\n",
       "      <th>5</th>\n",
       "      <td>0.05</td>\n",
       "      <td>-0.000007</td>\n",
       "      <td>1.9024</td>\n",
       "      <td>0.26124</td>\n",
       "      <td>0.001928</td>\n",
       "      <td>4.940656e-321</td>\n",
       "      <td>0.011915</td>\n",
       "      <td>-0.083324</td>\n",
       "      <td>-0.14964</td>\n",
       "      <td>-0.034010</td>\n",
       "      <td>-139.60</td>\n",
       "      <td>-53.471</td>\n",
       "      <td>-16.0820</td>\n",
       "      <td>-6.95450</td>\n",
       "      <td>0.323560</td>\n",
       "      <td>1.141292e-321</td>\n",
       "      <td>0.031745</td>\n",
       "    </tr>\n",
       "  </tbody>\n",
       "</table>\n",
       "</div>"
      ],
      "text/plain": [
       "      t        q1      q2       q3       dq1            dq2       dq3  \\\n",
       "0  0.00 -0.000007  1.9024  0.26063 -0.000364  4.940656e-321  0.012596   \n",
       "1  0.01  0.000013  1.9024  0.26073  0.000739  4.940656e-321  0.012095   \n",
       "2  0.02 -0.000007  1.9024  0.26086 -0.000580  4.940656e-321  0.011596   \n",
       "3  0.03  0.000013  1.9024  0.26099  0.001409  4.940656e-321  0.013933   \n",
       "4  0.04 -0.000007  1.9024  0.26110 -0.001273  4.940656e-321  0.010793   \n",
       "5  0.05 -0.000007  1.9024  0.26124  0.001928  4.940656e-321  0.011915   \n",
       "\n",
       "         I1       I2        I3   eps21   eps22    eps31    eps32      ddq1  \\\n",
       "0 -0.096928 -0.15134 -0.017005 -130.83 -41.856  -6.3635  5.13410 -0.045712   \n",
       "1 -0.028908 -0.11903 -0.020406 -138.18 -51.100 -14.6590 -5.05820  0.125580   \n",
       "2 -0.059517 -0.13944 -0.047614 -139.36 -51.812 -14.6590 -5.29520 -0.130080   \n",
       "3 -0.079923 -0.15304 -0.023807 -135.57 -48.019 -11.3410 -0.79168  0.213010   \n",
       "4 -0.025507 -0.12924 -0.006802 -135.81 -49.204 -12.0520 -2.21390 -0.276490   \n",
       "5 -0.083324 -0.14964 -0.034010 -139.60 -53.471 -16.0820 -6.95450  0.323560   \n",
       "\n",
       "            ddq2      ddq3  \n",
       "0  6.210306e-319  1.582900  \n",
       "1  1.766878e-319  0.414660  \n",
       "2  4.990557e-320  0.082286  \n",
       "3  1.394253e-320  0.190650  \n",
       "4  3.581976e-321 -0.170400  \n",
       "5  1.141292e-321  0.031745  "
      ]
     },
     "execution_count": 61,
     "metadata": {},
     "output_type": "execute_result"
    }
   ],
   "source": [
    "df2 = pd.read_csv('https://raw.githubusercontent.com/sdrangan/introml/2801f72d7a4fff0633ede56ba701984f9bb05652/mult_lin_reg/exp2.csv',\n",
    "               header=None,na_values='?',names=names)\n",
    "df2.head(6)"
   ]
  },
  {
   "cell_type": "code",
   "execution_count": 62,
   "metadata": {},
   "outputs": [
    {
     "data": {
      "image/png": "iVBORw0KGgoAAAANSUhEUgAAAY4AAAEKCAYAAAAFJbKyAAAABHNCSVQICAgIfAhkiAAAAAlwSFlz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\nHo4cycfYsXV1ZR54YCuysrTQ4b
